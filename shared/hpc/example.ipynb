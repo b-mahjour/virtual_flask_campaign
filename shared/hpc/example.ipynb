{
 "cells": [
  {
   "cell_type": "code",
   "execution_count": 4,
   "metadata": {},
   "outputs": [],
   "source": [
    "from shared.hpc.reset_tables import reset_psql, connect_to_local_psql\n",
    "from shared.hpc.batch import DistributedPipeline\n",
    "from rdkit import RDLogger\n",
    "\n",
    "RDLogger.DisableLog(\"rdApp.*\")\n",
    "\n",
    "x = DistributedPipeline(\n",
    "    output_path=\"./example/distributed_test_1\",\n",
    "    data_path=\"../../shared/data\",\n",
    "    d=10,\n",
    "    filter_seen=False,\n",
    ")\n",
    "\n",
    "x.load_data(\"inventory.xlsx\")\n"
   ]
  },
  {
   "cell_type": "code",
   "execution_count": 5,
   "metadata": {},
   "outputs": [
    {
     "name": "stdout",
     "output_type": "stream",
     "text": [
      "3\n",
      "4\n",
      "5\n",
      "6\n",
      "7\n",
      "8\n"
     ]
    }
   ],
   "source": [
    "# you need to have a local postgres database running\n",
    "reset_psql() # this will reset the tables. be careful!"
   ]
  },
  {
   "cell_type": "code",
   "execution_count": 6,
   "metadata": {},
   "outputs": [
    {
     "name": "stdout",
     "output_type": "stream",
     "text": [
      "56 experiments distributed over 10 divisions\n",
      "batch size: 5\n"
     ]
    },
    {
     "name": "stderr",
     "output_type": "stream",
     "text": [
      "sh: sbatch: command not found\n",
      "sh: sbatch: command not found\n",
      "sh: sbatch: command not found\n",
      "sh: sbatch: command not found\n",
      "sh: sbatch: command not found\n",
      "sh: sbatch: command not found\n",
      "sh: sbatch: command not found\n",
      "sh: sbatch: command not found\n",
      "sh: sbatch: command not found\n",
      "sh: sbatch: command not found\n"
     ]
    }
   ],
   "source": [
    "# For now, you'll need to be on a hpc to run this\n",
    "# and also load the necessary modules (xtb, openbabel)\n",
    "x.pipe(\"all\", clear_data=True, create_inputs=True, percent=0.1)"
   ]
  }
 ],
 "metadata": {
  "kernelspec": {
   "display_name": "env",
   "language": "python",
   "name": "python3"
  },
  "language_info": {
   "codemirror_mode": {
    "name": "ipython",
    "version": 3
   },
   "file_extension": ".py",
   "mimetype": "text/x-python",
   "name": "python",
   "nbconvert_exporter": "python",
   "pygments_lexer": "ipython3",
   "version": "3.12.5"
  }
 },
 "nbformat": 4,
 "nbformat_minor": 2
}
